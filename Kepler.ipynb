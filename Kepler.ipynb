{
 "cells": [
  {
   "cell_type": "code",
   "execution_count": 1,
   "id": "dc78b2e8",
   "metadata": {},
   "outputs": [],
   "source": [
    "# Topic : Celestial Mechanics & Kepler 3rd law of motion.\n",
    "# Solution & notes by Akhona Njeje.\n",
    "# Date : 11 Oct 2023.\n",
    "\n",
    "\n",
    "\n",
    "# Mini notes.\n",
    "\n",
    "# Lets exlore how the planet revolves around the sun.\n",
    "# Calculate how long (T) the planet revolves around its parent star.\n",
    "# T = SQUARE_R00T((4*pi^2 / G*m_s)r^3).\n",
    "# G = Gravitational constant.\n",
    "# m_s = Mass of the sun.\n",
    "# r = distance from the sun.\n",
    "\n",
    "from numpy import *\n",
    "from astropy import *\n",
    "from astropy import constants as con"
   ]
  },
  {
   "cell_type": "code",
   "execution_count": 2,
   "id": "0a69d9f4",
   "metadata": {},
   "outputs": [
    {
     "data": {
      "text/latex": [
       "$6.6743 \\times 10^{-11} \\; \\mathrm{\\frac{m^{3}}{kg\\,s^{2}}}$"
      ],
      "text/plain": [
       "<<class 'astropy.constants.codata2018.CODATA2018'> name='Gravitational constant' value=6.6743e-11 uncertainty=1.5e-15 unit='m3 / (kg s2)' reference='CODATA 2018'>"
      ]
     },
     "execution_count": 2,
     "metadata": {},
     "output_type": "execute_result"
    }
   ],
   "source": [
    "# Gravity.\n",
    "\n",
    "con.G"
   ]
  },
  {
   "cell_type": "code",
   "execution_count": 3,
   "id": "c5458f9c",
   "metadata": {},
   "outputs": [
    {
     "data": {
      "text/latex": [
       "$1.9884099 \\times 10^{30} \\; \\mathrm{kg}$"
      ],
      "text/plain": [
       "<<class 'astropy.constants.iau2015.IAU2015'> name='Solar mass' value=1.988409870698051e+30 uncertainty=4.468805426856864e+25 unit='kg' reference='IAU 2015 Resolution B 3 + CODATA 2018'>"
      ]
     },
     "execution_count": 3,
     "metadata": {},
     "output_type": "execute_result"
    }
   ],
   "source": [
    "# Mass of the Sun.\n",
    "\n",
    "con.M_sun"
   ]
  },
  {
   "cell_type": "code",
   "execution_count": 4,
   "id": "b8e6c6d1",
   "metadata": {},
   "outputs": [
    {
     "data": {
      "text/latex": [
       "$1.4959787 \\times 10^{11} \\; \\mathrm{m}$"
      ],
      "text/plain": [
       "<<class 'astropy.constants.iau2015.IAU2015'> name='Astronomical Unit' value=149597870700.0 uncertainty=0.0 unit='m' reference='IAU 2012 Resolution B2'>"
      ]
     },
     "execution_count": 4,
     "metadata": {},
     "output_type": "execute_result"
    }
   ],
   "source": [
    "# Distance from the Sun & our planet.\n",
    "\n",
    "con.au"
   ]
  },
  {
   "cell_type": "code",
   "execution_count": 5,
   "id": "db392b9f",
   "metadata": {},
   "outputs": [
    {
     "data": {
      "text/latex": [
       "$31558196 \\; \\mathrm{s}$"
      ],
      "text/plain": [
       "<Quantity 31558196.02038122 s>"
      ]
     },
     "execution_count": 5,
     "metadata": {},
     "output_type": "execute_result"
    }
   ],
   "source": [
    "T = sqrt((4*pi**2)*(con.au)**3 / (con.G*con.M_sun))\n",
    "T"
   ]
  },
  {
   "cell_type": "code",
   "execution_count": 6,
   "id": "bd2045b3",
   "metadata": {},
   "outputs": [
    {
     "data": {
      "text/latex": [
       "$365.2569 \\; \\mathrm{d}$"
      ],
      "text/plain": [
       "<Quantity 365.25689838 d>"
      ]
     },
     "execution_count": 6,
     "metadata": {},
     "output_type": "execute_result"
    }
   ],
   "source": [
    "# Convert from seconds to days.\n",
    "\n",
    "from astropy import units as u\n",
    "T.to(u.day)   # 365days :-)."
   ]
  }
 ],
 "metadata": {
  "kernelspec": {
   "display_name": "Python 3 (ipykernel)",
   "language": "python",
   "name": "python3"
  },
  "language_info": {
   "codemirror_mode": {
    "name": "ipython",
    "version": 3
   },
   "file_extension": ".py",
   "mimetype": "text/x-python",
   "name": "python",
   "nbconvert_exporter": "python",
   "pygments_lexer": "ipython3",
   "version": "3.11.5"
  }
 },
 "nbformat": 4,
 "nbformat_minor": 5
}
